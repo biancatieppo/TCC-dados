{
 "cells": [
  {
   "cell_type": "markdown",
   "id": "6e750f6a",
   "metadata": {},
   "source": [
    "# ECG\n",
    "\n",
    "### [The MIT-BIH Long Term Database](https://archive.physionet.org/physiobank/database/ltdb/)\n",
    "#### This database contains 7 long-term ECG recordings (14 to 22 hours each), with manually reviewed beat annotations.\n",
    "\n",
    "#### 14046 – Age: 46  Sex: M"
   ]
  },
  {
   "cell_type": "markdown",
   "id": "819fff7e",
   "metadata": {},
   "source": [
    "## Waveform\n",
    "<br>\n",
    "<img src=\"14046.png\" alt=\"ECG_DB\">"
   ]
  },
  {
   "cell_type": "code",
   "execution_count": 1,
   "id": "291ca788",
   "metadata": {},
   "outputs": [],
   "source": [
    "# Importar as bibliotecas\n",
    "import heartpy as hp\n",
    "import matplotlib.pyplot as plt\n",
    "import numpy as np\n",
    "import pandas as pd"
   ]
  },
  {
   "cell_type": "code",
   "execution_count": 2,
   "id": "20e317f8",
   "metadata": {},
   "outputs": [],
   "source": [
    "# Definir a taxa de amostragem\n",
    "# 0.0078125 s = 128 Hz\n",
    "sample_rate = 128"
   ]
  },
  {
   "cell_type": "code",
   "execution_count": 3,
   "id": "97c86d0e",
   "metadata": {},
   "outputs": [
    {
     "data": {
      "text/html": [
       "<div>\n",
       "<style scoped>\n",
       "    .dataframe tbody tr th:only-of-type {\n",
       "        vertical-align: middle;\n",
       "    }\n",
       "\n",
       "    .dataframe tbody tr th {\n",
       "        vertical-align: top;\n",
       "    }\n",
       "\n",
       "    .dataframe thead th {\n",
       "        text-align: right;\n",
       "    }\n",
       "</style>\n",
       "<table border=\"1\" class=\"dataframe\">\n",
       "  <thead>\n",
       "    <tr style=\"text-align: right;\">\n",
       "      <th></th>\n",
       "      <th>'sample interval'</th>\n",
       "      <th>'ECG1'</th>\n",
       "      <th>'ECG2'</th>\n",
       "    </tr>\n",
       "  </thead>\n",
       "  <tbody>\n",
       "    <tr>\n",
       "      <th>0</th>\n",
       "      <td>'0.0078125 sec'</td>\n",
       "      <td>'mV'</td>\n",
       "      <td>'mV'</td>\n",
       "    </tr>\n",
       "    <tr>\n",
       "      <th>1</th>\n",
       "      <td>0</td>\n",
       "      <td>0.160</td>\n",
       "      <td>-0.290</td>\n",
       "    </tr>\n",
       "    <tr>\n",
       "      <th>2</th>\n",
       "      <td>1</td>\n",
       "      <td>0.180</td>\n",
       "      <td>-0.300</td>\n",
       "    </tr>\n",
       "    <tr>\n",
       "      <th>3</th>\n",
       "      <td>2</td>\n",
       "      <td>0.170</td>\n",
       "      <td>-0.320</td>\n",
       "    </tr>\n",
       "    <tr>\n",
       "      <th>4</th>\n",
       "      <td>3</td>\n",
       "      <td>0.180</td>\n",
       "      <td>-0.290</td>\n",
       "    </tr>\n",
       "    <tr>\n",
       "      <th>...</th>\n",
       "      <td>...</td>\n",
       "      <td>...</td>\n",
       "      <td>...</td>\n",
       "    </tr>\n",
       "    <tr>\n",
       "      <th>7676</th>\n",
       "      <td>7675</td>\n",
       "      <td>-0.100</td>\n",
       "      <td>-0.280</td>\n",
       "    </tr>\n",
       "    <tr>\n",
       "      <th>7677</th>\n",
       "      <td>7676</td>\n",
       "      <td>-0.110</td>\n",
       "      <td>-0.300</td>\n",
       "    </tr>\n",
       "    <tr>\n",
       "      <th>7678</th>\n",
       "      <td>7677</td>\n",
       "      <td>-0.120</td>\n",
       "      <td>-0.280</td>\n",
       "    </tr>\n",
       "    <tr>\n",
       "      <th>7679</th>\n",
       "      <td>7678</td>\n",
       "      <td>-0.110</td>\n",
       "      <td>-0.270</td>\n",
       "    </tr>\n",
       "    <tr>\n",
       "      <th>7680</th>\n",
       "      <td>7679</td>\n",
       "      <td>-0.120</td>\n",
       "      <td>-0.290</td>\n",
       "    </tr>\n",
       "  </tbody>\n",
       "</table>\n",
       "<p>7681 rows × 3 columns</p>\n",
       "</div>"
      ],
      "text/plain": [
       "     'sample interval'  'ECG1'  'ECG2'\n",
       "0      '0.0078125 sec'    'mV'    'mV'\n",
       "1                    0   0.160  -0.290\n",
       "2                    1   0.180  -0.300\n",
       "3                    2   0.170  -0.320\n",
       "4                    3   0.180  -0.290\n",
       "...                ...     ...     ...\n",
       "7676              7675  -0.100  -0.280\n",
       "7677              7676  -0.110  -0.300\n",
       "7678              7677  -0.120  -0.280\n",
       "7679              7678  -0.110  -0.270\n",
       "7680              7679  -0.120  -0.290\n",
       "\n",
       "[7681 rows x 3 columns]"
      ]
     },
     "execution_count": 3,
     "metadata": {},
     "output_type": "execute_result"
    }
   ],
   "source": [
    "# Importar os dados\n",
    "db = pd.read_csv('14046.csv')\n",
    "db"
   ]
  },
  {
   "cell_type": "code",
   "execution_count": 4,
   "id": "06c760d6",
   "metadata": {},
   "outputs": [
    {
     "data": {
      "text/html": [
       "<div>\n",
       "<style scoped>\n",
       "    .dataframe tbody tr th:only-of-type {\n",
       "        vertical-align: middle;\n",
       "    }\n",
       "\n",
       "    .dataframe tbody tr th {\n",
       "        vertical-align: top;\n",
       "    }\n",
       "\n",
       "    .dataframe thead th {\n",
       "        text-align: right;\n",
       "    }\n",
       "</style>\n",
       "<table border=\"1\" class=\"dataframe\">\n",
       "  <thead>\n",
       "    <tr style=\"text-align: right;\">\n",
       "      <th></th>\n",
       "      <th>sample interval</th>\n",
       "      <th>ECG1</th>\n",
       "      <th>ECG2</th>\n",
       "    </tr>\n",
       "  </thead>\n",
       "  <tbody>\n",
       "    <tr>\n",
       "      <th>0</th>\n",
       "      <td>'0.0078125 sec'</td>\n",
       "      <td>'mV'</td>\n",
       "      <td>'mV'</td>\n",
       "    </tr>\n",
       "    <tr>\n",
       "      <th>1</th>\n",
       "      <td>0</td>\n",
       "      <td>0.160</td>\n",
       "      <td>-0.290</td>\n",
       "    </tr>\n",
       "    <tr>\n",
       "      <th>2</th>\n",
       "      <td>1</td>\n",
       "      <td>0.180</td>\n",
       "      <td>-0.300</td>\n",
       "    </tr>\n",
       "    <tr>\n",
       "      <th>3</th>\n",
       "      <td>2</td>\n",
       "      <td>0.170</td>\n",
       "      <td>-0.320</td>\n",
       "    </tr>\n",
       "    <tr>\n",
       "      <th>4</th>\n",
       "      <td>3</td>\n",
       "      <td>0.180</td>\n",
       "      <td>-0.290</td>\n",
       "    </tr>\n",
       "    <tr>\n",
       "      <th>...</th>\n",
       "      <td>...</td>\n",
       "      <td>...</td>\n",
       "      <td>...</td>\n",
       "    </tr>\n",
       "    <tr>\n",
       "      <th>7676</th>\n",
       "      <td>7675</td>\n",
       "      <td>-0.100</td>\n",
       "      <td>-0.280</td>\n",
       "    </tr>\n",
       "    <tr>\n",
       "      <th>7677</th>\n",
       "      <td>7676</td>\n",
       "      <td>-0.110</td>\n",
       "      <td>-0.300</td>\n",
       "    </tr>\n",
       "    <tr>\n",
       "      <th>7678</th>\n",
       "      <td>7677</td>\n",
       "      <td>-0.120</td>\n",
       "      <td>-0.280</td>\n",
       "    </tr>\n",
       "    <tr>\n",
       "      <th>7679</th>\n",
       "      <td>7678</td>\n",
       "      <td>-0.110</td>\n",
       "      <td>-0.270</td>\n",
       "    </tr>\n",
       "    <tr>\n",
       "      <th>7680</th>\n",
       "      <td>7679</td>\n",
       "      <td>-0.120</td>\n",
       "      <td>-0.290</td>\n",
       "    </tr>\n",
       "  </tbody>\n",
       "</table>\n",
       "<p>7681 rows × 3 columns</p>\n",
       "</div>"
      ],
      "text/plain": [
       "      sample interval    ECG1    ECG2\n",
       "0     '0.0078125 sec'    'mV'    'mV'\n",
       "1                   0   0.160  -0.290\n",
       "2                   1   0.180  -0.300\n",
       "3                   2   0.170  -0.320\n",
       "4                   3   0.180  -0.290\n",
       "...               ...     ...     ...\n",
       "7676             7675  -0.100  -0.280\n",
       "7677             7676  -0.110  -0.300\n",
       "7678             7677  -0.120  -0.280\n",
       "7679             7678  -0.110  -0.270\n",
       "7680             7679  -0.120  -0.290\n",
       "\n",
       "[7681 rows x 3 columns]"
      ]
     },
     "execution_count": 4,
     "metadata": {},
     "output_type": "execute_result"
    }
   ],
   "source": [
    "db.columns = ['sample interval', 'ECG1', 'ECG2']\n",
    "db"
   ]
  },
  {
   "cell_type": "code",
   "execution_count": 5,
   "id": "bdb4e931",
   "metadata": {},
   "outputs": [],
   "source": [
    "filtro = db.loc[(db['ECG1'] == \"'mV'\")]\n",
    "filtro\n",
    "db = db.drop(filtro.index)"
   ]
  },
  {
   "cell_type": "code",
   "execution_count": 6,
   "id": "95a8d54e",
   "metadata": {},
   "outputs": [
    {
     "data": {
      "text/plain": [
       "sample interval    object\n",
       "ECG1               object\n",
       "ECG2               object\n",
       "dtype: object"
      ]
     },
     "execution_count": 6,
     "metadata": {},
     "output_type": "execute_result"
    }
   ],
   "source": [
    "db.dtypes"
   ]
  },
  {
   "cell_type": "code",
   "execution_count": 7,
   "id": "3945122e",
   "metadata": {},
   "outputs": [],
   "source": [
    "data = db['ECG2'].astype(float, errors = 'raise')"
   ]
  },
  {
   "cell_type": "markdown",
   "id": "811d0e14",
   "metadata": {},
   "source": [
    "## Plot waveform"
   ]
  },
  {
   "cell_type": "code",
   "execution_count": 8,
   "id": "72c26c1d",
   "metadata": {},
   "outputs": [
    {
     "data": {
      "image/png": "[encoded data removed]",
      "text/plain": [
       "<Figure size 864x288 with 1 Axes>"
      ]
     },
     "metadata": {
      "needs_background": "light"
     },
     "output_type": "display_data"
    }
   ],
   "source": [
    "plt.figure(figsize=(12,4))\n",
    "plt.plot(data[10:360])\n",
    "plt.show()"
   ]
  },
  {
   "cell_type": "code",
   "execution_count": 14,
   "id": "e1cfba37",
   "metadata": {},
   "outputs": [
    {
     "name": "stdout",
     "output_type": "stream",
     "text": [
      "bpm: 76.462665\n",
      "ibi: 784.696691\n",
      "sdnn: 33.210081\n",
      "sdsd: 33.513062\n",
      "rmssd: 40.228801\n",
      "pnn20: 0.424242\n",
      "pnn50: 0.030303\n",
      "hr_mad: 15.625000\n",
      "sd1: 28.414516\n",
      "sd2: 31.616417\n",
      "s: 2822.297421\n",
      "sd1/sd2: 0.898727\n",
      "breathingrate: 0.333333\n"
     ]
    },
    {
     "name": "stderr",
     "output_type": "stream",
     "text": [
      "C:\\Users\\Lucia\\Anaconda3\\lib\\site-packages\\heartpy\\visualizeutils.py:119: UserWarning: Matplotlib is currently using module://ipykernel.pylab.backend_inline, which is a non-GUI backend, so cannot show the figure.\n",
      "  fig.show()\n"
     ]
    },
    {
     "data": {
      "text/plain": [
       "<Figure size 864x288 with 0 Axes>"
      ]
     },
     "metadata": {},
     "output_type": "display_data"
    },
    {
     "data": {
      "image/png": "[encoded data removed]",
      "text/plain": [
       "<Figure size 432x288 with 1 Axes>"
      ]
     },
     "metadata": {
      "needs_background": "light"
     },
     "output_type": "display_data"
    }
   ],
   "source": [
    "# Análise\n",
    "wd, m = hp.process(hp.scale_data(data), sample_rate)\n",
    "\n",
    "plt.figure(figsize=(12,4))\n",
    "hp.plotter(wd, m)\n",
    "\n",
    "# Mostrar as medidas computadas\n",
    "for measure in m.keys():\n",
    "    print('%s: %f' %(measure, m[measure]))"
   ]
  },
  {
   "cell_type": "code",
   "execution_count": null,
   "id": "ae784218",
   "metadata": {},
   "outputs": [],
   "source": []
  }
 ],
 "metadata": {
  "kernelspec": {
   "display_name": "Python 3",
   "language": "python",
   "name": "python3"
  },
  "language_info": {
   "codemirror_mode": {
    "name": "ipython",
    "version": 3
   },
   "file_extension": ".py",
   "mimetype": "text/x-python",
   "name": "python",
   "nbconvert_exporter": "python",
   "pygments_lexer": "ipython3",
   "version": "3.8.8"
  }
 },
 "nbformat": 4,
 "nbformat_minor": 5
}
